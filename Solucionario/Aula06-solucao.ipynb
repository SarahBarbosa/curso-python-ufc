{
 "cells": [
  {
   "cell_type": "markdown",
   "metadata": {},
   "source": [
    "<img src=\"https://imgur.com/dbHJUg0.png\" style=\"float:center;\">"
   ]
  },
  {
   "cell_type": "markdown",
   "metadata": {},
   "source": [
    "# <font color=#005757>Solução dos Exercícios</font>"
   ]
  },
  {
   "cell_type": "markdown",
   "metadata": {},
   "source": [
    "## <font color=#005757>1 Andar aleatório do rato</font>\n",
    "\n",
    "Suponha que estamos simulando um rato caminhando por um labirinto onde em cada ramificação (ou interseção) do caminho, o rato pode seguir para a esquerda ou para a direita. Supondo que o rato apenas caminhe para frente e faça sua escolha de direção em cada interseção aleatoriamente, escreva um programa que imprima as decisões de caminho simuladas através de seis interseções."
   ]
  },
  {
   "cell_type": "code",
   "execution_count": 1,
   "metadata": {},
   "outputs": [
    {
     "name": "stdout",
     "output_type": "stream",
     "text": [
      "Direita\n",
      "Esquerda\n",
      "Esquerda\n",
      "Esquerda\n",
      "Direita\n",
      "Direita\n"
     ]
    }
   ],
   "source": [
    "import numpy as np\n",
    "\n",
    "# Se quiser ter o mesmo resultado, use o essa semente\n",
    "np.random.seed(42)\n",
    "\n",
    "for i in range(6):\n",
    "    if np.random.uniform() >= 0.5:\n",
    "        print(\"Esquerda\")\n",
    "    else:\n",
    "        print(\"Direita\")"
   ]
  }
 ],
 "metadata": {
  "kernelspec": {
   "display_name": "Python 3",
   "language": "python",
   "name": "python3"
  },
  "language_info": {
   "codemirror_mode": {
    "name": "ipython",
    "version": 3
   },
   "file_extension": ".py",
   "mimetype": "text/x-python",
   "name": "python",
   "nbconvert_exporter": "python",
   "pygments_lexer": "ipython3",
   "version": "3.11.7"
  }
 },
 "nbformat": 4,
 "nbformat_minor": 2
}
