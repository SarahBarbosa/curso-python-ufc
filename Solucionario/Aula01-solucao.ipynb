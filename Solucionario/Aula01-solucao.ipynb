{
 "cells": [
  {
   "cell_type": "markdown",
   "metadata": {},
   "source": [
    "<img src=\"https://imgur.com/Ufr3exN.png\" style=\"float:center;\">"
   ]
  },
  {
   "cell_type": "markdown",
   "metadata": {},
   "source": [
    "# <font color=#005757>Solução dos Exercícios </font>"
   ]
  },
  {
   "cell_type": "markdown",
   "metadata": {},
   "source": [
    "## <font color=#005757>1 Área de um Círculo </font>\n",
    "\n",
    "Qual é a área de um círculo com raio de 5.2 cm?\n",
    "\n",
    "<div>\n",
    "<img src=\"https://imgur.com/TSh8EzI.png\" width=\"250\"/>\n",
    "</div>"
   ]
  },
  {
   "cell_type": "code",
   "execution_count": 1,
   "metadata": {},
   "outputs": [
    {
     "data": {
      "text/plain": [
       "84.94864768000001"
      ]
     },
     "execution_count": 1,
     "metadata": {},
     "output_type": "execute_result"
    }
   ],
   "source": [
    "r = 5.2\n",
    "pi = 3.141592\n",
    "area = pi * (r ** 2)\n",
    "area"
   ]
  },
  {
   "cell_type": "markdown",
   "metadata": {},
   "source": [
    "## <font color=#005757>2 Energia Cinética de um Projétil </font>\n",
    "\n",
    "Qual é a energia cinética de um projétil de 4.3 kg viajando a uma velocidade de 1.2 m/s?\n",
    "\n",
    "<div>\n",
    "<img src=\"https://imgur.com/0UveKIs.png\" width=\"250\"/>\n",
    "</div>"
   ]
  },
  {
   "cell_type": "code",
   "execution_count": 2,
   "metadata": {},
   "outputs": [
    {
     "data": {
      "text/plain": [
       "3.0959999999999996"
      ]
     },
     "execution_count": 2,
     "metadata": {},
     "output_type": "execute_result"
    }
   ],
   "source": [
    "m = 4.3\n",
    "v = 1.2\n",
    "E = (1 / 2) * m * (v ** 2)\n",
    "E"
   ]
  },
  {
   "cell_type": "markdown",
   "metadata": {},
   "source": [
    "## <font color=#005757>3 Raízes Usando a Fórmula Quadrática </font>\n",
    "\n",
    "Considere o seguinte polinômio quadrático:\n",
    "\n",
    "$$3x^2 + 4x - 3 = 0$$\n",
    "\n",
    "Quais são as raízes de $x$? Resolva para $x$ usando a fórmula quadrática:\n",
    "\n",
    "$$x = \\dfrac{-b \\pm \\sqrt{b^2 - 4ac}}{2a} $$\n",
    "\n",
    "onde $a$, $b$ e $c$ são os coeficientes do polinômio quadrático."
   ]
  },
  {
   "cell_type": "code",
   "execution_count": 3,
   "metadata": {},
   "outputs": [
    {
     "data": {
      "text/plain": [
       "(0.5351837584879964, -1.8685170918213299)"
      ]
     },
     "execution_count": 3,
     "metadata": {},
     "output_type": "execute_result"
    }
   ],
   "source": [
    "a = 3\n",
    "b = 4\n",
    "c = -3\n",
    "x1 = (-b + (b ** 2 - 4 * a * c) ** (1/2)) / (2 * a)\n",
    "x2 = (-b - (b ** 2 - 4 * a * c) ** (1/2)) / (2 * a)\n",
    "x1, x2"
   ]
  }
 ],
 "metadata": {
  "kernelspec": {
   "display_name": "Python 3",
   "language": "python",
   "name": "python3"
  },
  "language_info": {
   "codemirror_mode": {
    "name": "ipython",
    "version": 3
   },
   "file_extension": ".py",
   "mimetype": "text/x-python",
   "name": "python",
   "nbconvert_exporter": "python",
   "pygments_lexer": "ipython3",
   "version": "3.10.12"
  }
 },
 "nbformat": 4,
 "nbformat_minor": 2
}
