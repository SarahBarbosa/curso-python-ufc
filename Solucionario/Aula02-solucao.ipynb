{
 "cells": [
  {
   "cell_type": "markdown",
   "metadata": {},
   "source": [
    "<img src=\"https://imgur.com/cFdkDak.png\" style=\"float:center;\">"
   ]
  },
  {
   "cell_type": "markdown",
   "metadata": {},
   "source": [
    "# <font color=#005757>Solução dos Exercícios </font>"
   ]
  },
  {
   "cell_type": "markdown",
   "metadata": {},
   "source": [
    "## <font color=#005757>1 Decomposição de um vetor no eixo x e y </font>\n",
    "\n",
    "Considere o vetor velocidade $\\vec{v}$ do início desse notebook. Agora com $\\theta = 53.52^\\circ$. Qual a magnitude de $\\vec v_x$ e $\\vec v_y$ quando assumimos $v = 8.2$ m/s?\n"
   ]
  },
  {
   "cell_type": "code",
   "execution_count": 2,
   "metadata": {},
   "outputs": [
    {
     "data": {
      "text/plain": [
       "(4.875245642625647, 6.593328440481304)"
      ]
     },
     "execution_count": 2,
     "metadata": {},
     "output_type": "execute_result"
    }
   ],
   "source": [
    "import numpy as np\n",
    "\n",
    "def decomposicao_vetorial(v, theta):\n",
    "  theta *= np.pi / 180\n",
    "  v_x = v * np.cos(theta)\n",
    "  v_y = v * np.sin(theta)\n",
    "  return v_x, v_y\n",
    "\n",
    "decomposicao_vetorial(v = 8.2, theta = 53.52)"
   ]
  },
  {
   "cell_type": "markdown",
   "metadata": {},
   "source": [
    "## <font color=#005757>2 pH de uma substância</font>\n",
    "\n",
    "O pH de uma substância é definido como:\n",
    "\n",
    "$$ \\text{pH} = -\\log_{10} \\text{H}^{+} $$\n",
    "\n",
    "onde $H^+$ é a concentração de íons de hidrogênio em mol/litro. Calcule o pH de uma solução cuja concentração de íons de hidrogênio é $2.1 \\times 10^{-6}$ mol/litro.\n"
   ]
  },
  {
   "cell_type": "code",
   "execution_count": 3,
   "metadata": {},
   "outputs": [
    {
     "data": {
      "text/plain": [
       "5.6777807052660805"
      ]
     },
     "execution_count": 3,
     "metadata": {},
     "output_type": "execute_result"
    }
   ],
   "source": [
    "substancia = 2.1e-6\n",
    "ph = -np.log10(substancia)\n",
    "ph"
   ]
  },
  {
   "cell_type": "markdown",
   "metadata": {},
   "source": [
    "## <font color=#005757>3 Movimento de um projétil (distância total) </font>\n",
    "\n",
    "Considere um canhão apontando para cima de forma que seu cano faça um ângulo de 45° com a superfície do solo nivelado. Se um projétil é disparado a 10 m/s, a que distância do canhão o projétil atingirá o solo? Assuma que não há resistência do ar e que o solo está sempre nivelado. Também assuma que a aceleração gravitacional $g$ é de $9.81$ $\\text{m/s}^2$.\n",
    "\n",
    "<div>\n",
    "<img src=\"https://imgur.com/xe6KFRB.png\" width=\"550\"/>\n",
    "</div>"
   ]
  },
  {
   "cell_type": "code",
   "execution_count": 4,
   "metadata": {},
   "outputs": [
    {
     "data": {
      "text/plain": [
       "10.19367991845056"
      ]
     },
     "execution_count": 4,
     "metadata": {},
     "output_type": "execute_result"
    }
   ],
   "source": [
    "def distancia_total(v, angulo = 45, g = 9.81):\n",
    "  angulo_radiano = angulo * np.pi / 180\n",
    "\n",
    "  v_x = v * np.cos(angulo_radiano)\n",
    "  v_y = v * np.sin(angulo_radiano)\n",
    "\n",
    "  tempo_total = 2 * (v_y / g)\n",
    "  distancia = v_x * tempo_total\n",
    "  return distancia\n",
    "\n",
    "distancia_total(10)"
   ]
  },
  {
   "cell_type": "markdown",
   "metadata": {},
   "source": [
    "## <font color=#005757>4 Movimento de um projétil (alcance e altura máxima) </font>\n",
    "\n",
    "O alcance de um projétil lançado a um ângulo $\\alpha$ e velocidade $v$ em um terreno plano é dada por\n",
    "$$A = \\dfrac{v^2 \\sin 2\\alpha}{g}$$\n",
    "onde $g$ é a aceleração devido à gravidade, que pode ser considerada como $9.81$ $\\text{m/s}^2$ para a Terra. A altura máxima alcançada pelo projétil é dada por\n",
    "$$H = \\dfrac{v^2 \\sin^2 \\alpha}{2g}$$\n",
    "(Negligenciamos a resistência do ar e a curvatura e rotação da Terra.) **Escreva uma função** para calcular e mostrar o alcance e altura máxima de um projétil, recebendo $\\alpha$ e $v$ como argumentos. Teste-a com os valores $v = 10 m/s$ e $\\alpha = 30^\\circ$."
   ]
  },
  {
   "cell_type": "code",
   "execution_count": 3,
   "metadata": {},
   "outputs": [
    {
     "data": {
      "text/plain": [
       "(8.827985767425469, 1.2742099898063197)"
      ]
     },
     "execution_count": 3,
     "metadata": {},
     "output_type": "execute_result"
    }
   ],
   "source": [
    "def calcular_alcance_e_altura_maxima(velocidade, angulo):\n",
    "    g = 9.81\n",
    "    angulo_radiano = np.radians(angulo)\n",
    "\n",
    "    alcance = (velocidade ** 2 * np.sin(2 * angulo_radiano)) / g\n",
    "    altura_maxima = (velocidade ** 2 * (np.sin(angulo_radiano)) ** 2) / (2 * g)\n",
    "\n",
    "    return alcance, altura_maxima\n",
    "\n",
    "velocidade = 10 \n",
    "angulo = 30\n",
    "\n",
    "calcular_alcance_e_altura_maxima(velocidade, angulo)"
   ]
  }
 ],
 "metadata": {
  "kernelspec": {
   "display_name": "Python 3",
   "language": "python",
   "name": "python3"
  },
  "language_info": {
   "codemirror_mode": {
    "name": "ipython",
    "version": 3
   },
   "file_extension": ".py",
   "mimetype": "text/x-python",
   "name": "python",
   "nbconvert_exporter": "python",
   "pygments_lexer": "ipython3",
   "version": "3.11.7"
  }
 },
 "nbformat": 4,
 "nbformat_minor": 2
}
